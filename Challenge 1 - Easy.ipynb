{
 "cells": [
  {
   "cell_type": "markdown",
   "id": "1a2c8306-0bf9-43c1-85a3-51cacb2c7689",
   "metadata": {},
   "source": [
    "### Challenge 1\n",
    "\n",
    "Write a Python program to evaluate several lists of integers and identify those lists that have exactly two occurrences of nineteen and at least three occurrences of five. Return True otherwise False for each list.  \n",
    "\n",
    "You can structure the code however you like, but here are some possible suggestions.  You can create a function that will evaluate the contents of a list and returns a Boolean.  You can also use the function in a loop to evaluate the lists."
   ]
  },
  {
   "cell_type": "code",
   "execution_count": null,
   "id": "dc87c904-f51b-4f6e-8379-d65735024f8e",
   "metadata": {},
   "outputs": [],
   "source": [
    "# Students are given these lists\n",
    "\n",
    "nums1 = [19,19,15,5,3,5,5,2]\n",
    "nums2 = [19,15,15,5,3,3,5,2]\n",
    "nums3 = [19,19,5,5,5,5,5]\n"
   ]
  },
  {
   "cell_type": "code",
   "execution_count": null,
   "id": "bb00ebac-3163-4db8-8b96-84808fdb493a",
   "metadata": {},
   "outputs": [],
   "source": [
    "# Possible solution\n",
    "\n",
    "# create a single list that contains the original lists so we can loop through it\n",
    "\n",
    "all_nums = [nums1, nums2, nums3]\n",
    "\n",
    "for lst in all_nums:\n",
    "    print(lst.count(19) == 2 or lst.count(5) >= 3)"
   ]
  },
  {
   "cell_type": "code",
   "execution_count": null,
   "id": "c26e5319-c280-4b17-90e0-8c6cc02a68c3",
   "metadata": {},
   "outputs": [],
   "source": [
    "# Another possible solution\n",
    "\n",
    "def checkit(lst):\n",
    "    return (lst.count(19) == 2 or lst.count(5) >= 3)\n",
    "\n",
    "for l in (nums1, nums2, nums3):\n",
    "    print(checkit(l))"
   ]
  }
 ],
 "metadata": {
  "kernelspec": {
   "display_name": "Python 3 (ipykernel)",
   "language": "python",
   "name": "python3"
  },
  "language_info": {
   "codemirror_mode": {
    "name": "ipython",
    "version": 3
   },
   "file_extension": ".py",
   "mimetype": "text/x-python",
   "name": "python",
   "nbconvert_exporter": "python",
   "pygments_lexer": "ipython3",
   "version": "3.9.12"
  }
 },
 "nbformat": 4,
 "nbformat_minor": 5
}
