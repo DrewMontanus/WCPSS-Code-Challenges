{
 "cells": [
  {
   "cell_type": "markdown",
   "id": "d0902874-5038-46a1-9d31-27406ba92ddf",
   "metadata": {},
   "source": [
    "### Challenge 2\n",
    "\n",
    "Write a Python program that accepts a list of integers and calculates the length of the list and the value of the fourth element. Return true if the length of the list is 8 and the fourth element occurs thrice in the said list."
   ]
  },
  {
   "cell_type": "code",
   "execution_count": null,
   "id": "16d179b9-9c08-4903-b9c3-a2023b9868c7",
   "metadata": {},
   "outputs": [],
   "source": [
    "# Students are given these lists\n",
    "\n",
    "nums1 = [19,19,15,5,3,5,5,2]\n",
    "nums2 = [19,15,15,5,3,3,5,2]\n",
    "nums3 = [19,19,5,5,5,5,5]\n"
   ]
  },
  {
   "cell_type": "code",
   "execution_count": null,
   "id": "fc7804df-b98e-4e17-ad92-584b4fb66beb",
   "metadata": {},
   "outputs": [],
   "source": [
    "# Possible solution\n",
    "\n",
    "all_nums = [nums1, nums2, nums3]\n",
    "\n",
    "for lst in all_nums:\n",
    "    print(len(lst) == 8 and lst.count(lst[3]) == 3)"
   ]
  },
  {
   "cell_type": "code",
   "execution_count": null,
   "id": "bcb51077-3a3e-4f4b-a645-4cf4f9a6bc37",
   "metadata": {},
   "outputs": [],
   "source": [
    "# Another solution\n",
    "\n",
    "def checkit(lst):\n",
    "    return len(lst) == 8 and lst.count(lst[3]) == 3\n",
    "\n",
    "print(checkit(nums1), checkit(nums2), checkit(nums3))"
   ]
  }
 ],
 "metadata": {
  "kernelspec": {
   "display_name": "Python 3 (ipykernel)",
   "language": "python",
   "name": "python3"
  },
  "language_info": {
   "codemirror_mode": {
    "name": "ipython",
    "version": 3
   },
   "file_extension": ".py",
   "mimetype": "text/x-python",
   "name": "python",
   "nbconvert_exporter": "python",
   "pygments_lexer": "ipython3",
   "version": "3.9.12"
  }
 },
 "nbformat": 4,
 "nbformat_minor": 5
}
