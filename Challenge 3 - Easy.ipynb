{
 "cells": [
  {
   "cell_type": "markdown",
   "id": "242932a7-2bc3-4454-bb54-d2d0d2fe11a4",
   "metadata": {},
   "source": [
    "### Challenge 3\n",
    "\n",
    "Write a Python program that accepts an integer input from the user and determines whether it is greater than 4^4 and if it is a multiple of 4.  It will return True if both conditions are met, otherwise False."
   ]
  },
  {
   "cell_type": "code",
   "execution_count": null,
   "id": "9c62396f-11e1-4a72-b6b0-536c762baec0",
   "metadata": {},
   "outputs": [],
   "source": [
    "# Possible solution - simple\n",
    "\n",
    "answer = int(input(\"Please enter an integer\"))\n",
    "\n",
    "answer > 4 ** 4 and answer % 4 == 0"
   ]
  },
  {
   "cell_type": "code",
   "execution_count": 1,
   "id": "393d00c4-b210-4a5d-b59f-55ac302fdf3b",
   "metadata": {},
   "outputs": [
    {
     "name": "stdin",
     "output_type": "stream",
     "text": [
      "Please enter an integer 45\n",
      "Please enter an integer 543\n",
      "Please enter an integer 10df\n"
     ]
    },
    {
     "name": "stdout",
     "output_type": "stream",
     "text": [
      "You must enter an integer for this to work\n"
     ]
    },
    {
     "name": "stdin",
     "output_type": "stream",
     "text": [
      "Please enter an integer 1000\n"
     ]
    },
    {
     "name": "stdout",
     "output_type": "stream",
     "text": [
      "True\n"
     ]
    }
   ],
   "source": [
    "# Another possible solution - improved\n",
    "# This routine will keep running until a T\n",
    "\n",
    "while True:\n",
    "\n",
    "    try:\n",
    "        answer = int(input(\"Please enter an integer\"))\n",
    "        if answer > 4 ** 4 and answer % 4 == 0:\n",
    "            print(True)\n",
    "            break\n",
    "    except ValueError:\n",
    "        print(\"You must enter an integer for this to work\")"
   ]
  },
  {
   "cell_type": "code",
   "execution_count": null,
   "id": "b69f25f6-38a4-4881-aa31-0f48539a0bb9",
   "metadata": {},
   "outputs": [],
   "source": []
  }
 ],
 "metadata": {
  "kernelspec": {
   "display_name": "Python 3 (ipykernel)",
   "language": "python",
   "name": "python3"
  },
  "language_info": {
   "codemirror_mode": {
    "name": "ipython",
    "version": 3
   },
   "file_extension": ".py",
   "mimetype": "text/x-python",
   "name": "python",
   "nbconvert_exporter": "python",
   "pygments_lexer": "ipython3",
   "version": "3.9.12"
  }
 },
 "nbformat": 4,
 "nbformat_minor": 5
}
