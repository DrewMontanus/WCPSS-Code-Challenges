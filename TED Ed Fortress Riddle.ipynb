{
 "cells": [
  {
   "cell_type": "markdown",
   "id": "90dc8489-fc82-4d86-986b-70921b6be3eb",
   "metadata": {},
   "source": [
    "#### TED Ed Fortress Riddle\n",
    "\n",
    "Solve the fortress riddle using Python.  What is the largest wall segment (less than or equal to 1000 meters wide) that can't be broken down by any combination of wall busters.  The enemy wall busters can be combined to destroy any combination of 6, 9 and 20 meter wide walls.  Since it takes the same time to build a large wall as a small wall, your engineers should focus on the largest possible walls that can't be destroyed.  See video below:\n",
    "\n",
    "[YouTube Video](https://www.youtube.com/watch?v=s5CLtBaRIwY)"
   ]
  },
  {
   "cell_type": "code",
   "execution_count": null,
   "id": "6ba1b9d7-a22f-4847-9d13-901777e00368",
   "metadata": {},
   "outputs": [],
   "source": [
    "# initialize global variables\n",
    "\n",
    "clowns = 6\n",
    "royals = 9\n",
    "redheads = 20\n",
    "exclusions = []\n",
    "optimal_wall = 0\n",
    "\n",
    "# Start by identifying all segment sizes that can be destroyed\n",
    "# calculate every possible value of c*6 + r*9 + h*20 where c,r,h are the number of lengths of that size\n",
    "# add those lengths to the exclusions list as those are walls that can be destroyed by the enemy\n",
    "\n",
    "for c in range(0,1000//clowns+1):\n",
    "    for r in range(0,1000//royals+1):\n",
    "        for h in range(0,1000//redheads+1):\n",
    "            size = c*clowns + r*royals + h*redheads\n",
    "            if size <= 1000:\n",
    "                exclusions.append(size)\n",
    "                \n",
    "# Then identify the largest length (less than 101) that is NOT in the exclusion list, this is the answer\n",
    "                \n",
    "for wall in range(1,101):\n",
    "    if wall not in exclusions:\n",
    "        if wall > optimal_wall:\n",
    "            optimal_wall = wall\n",
    "            \n",
    "print(f'The optimal wall segment size is {optimalwall}')\n",
    "\n",
    "# This is the end as far as the solution in the video goes, to extend a little further see below\n",
    "        "
   ]
  },
  {
   "cell_type": "code",
   "execution_count": null,
   "id": "4b008089-5d3b-4a6f-a1d7-c928b72011ed",
   "metadata": {},
   "outputs": [],
   "source": [
    "# The video doesn't cover this, but the solution is not complete -- the total gap is 1 kilometer\n",
    "# So this routine figures out all of the segments needed to protect the entire gap\n",
    "\n",
    "# we are going to make a list of all unbreakable wall lengths\n",
    "\n",
    "acceptable_walls = []\n",
    "\n",
    "for wall in range(1,101):\n",
    "    if wall not in exclusions:\n",
    "        acceptable_walls.append(wall)\n",
    "        \n",
    "# now iterate through that list backwards to build the wall with the fewest number of unbreakable lengths\n",
    "\n",
    "i = 0\n",
    "total_width = 0\n",
    "final_wall = []\n",
    "\n",
    "while total_width < 1000:\n",
    "    current_wall = acceptable_walls[len(acceptable_walls)-1-i] # grabs the longest of our unbreakable lengths\n",
    "    seg_count = (1000 - total_width) // current_wall # figures out how many we need without going over\n",
    "    # if a particular length fits, this conditional figures out how many of it to build\n",
    "    # the width and the number to build are saved as a tuple to the final_wall list\n",
    "    if  seg_count >= 1:\n",
    "        final_wall.append((seg_count, current_wall))\n",
    "        total_width += seg_count * current_wall\n",
    "    i += 1\n",
    "\n",
    "# now print a nicely formatted output message with the solution\n",
    "\n",
    "print('Walls to build:\\n')\n",
    "for entry in final_wall:\n",
    "    print(f'{entry[0]:2d} of the {entry[1]:2d} meter wide walls')\n"
   ]
  }
 ],
 "metadata": {
  "kernelspec": {
   "display_name": "Python 3 (ipykernel)",
   "language": "python",
   "name": "python3"
  },
  "language_info": {
   "codemirror_mode": {
    "name": "ipython",
    "version": 3
   },
   "file_extension": ".py",
   "mimetype": "text/x-python",
   "name": "python",
   "nbconvert_exporter": "python",
   "pygments_lexer": "ipython3",
   "version": "3.9.12"
  }
 },
 "nbformat": 4,
 "nbformat_minor": 5
}
